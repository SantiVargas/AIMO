{
 "cells": [
  {
   "cell_type": "code",
   "execution_count": 18,
   "metadata": {
    "collapsed": true
   },
   "outputs": [],
   "source": [
    "from ripe.atlas.cousteau import Measurement, Probe, Dns, AtlasSource, AtlasCreateRequest\n",
    "from datetime import datetime"
   ]
  },
  {
   "cell_type": "code",
   "execution_count": 28,
   "metadata": {},
   "outputs": [],
   "source": [
    "ATLAS_API_KEY = \"f00d3214-a18e-4f6d-8188-104dd1192b36\"\n",
    "targets = ['www.google.com', 'www.twitter.com']\n",
    "blocked_list = ['xxx.xxx']\n",
    "_tags = {'include': ['system-ipv4-works']}\n",
    "probe = AtlasSource(type='probes', value='15397', requested=1, tags=_tags)\n",
    "req_ids = []\n",
    "\n",
    "while targets and len(targets) != 0:\n",
    "    for _domain in targets:\n",
    "        if _domain not in blocked_list:\n",
    "            msm = Dns(af=4, query_class='IN', query_argument=_domain, query_type='A', use_probe_resolver=True,\n",
    "                               include_abuf=True, retry=5, description='New DNS A request for ' + _domain)\n",
    "            atlas_request = AtlasCreateRequest(\n",
    "                start_time=datetime.utcnow(),\n",
    "                key=ATLAS_API_KEY,\n",
    "                is_oneoff=True,\n",
    "                measurements=[msm],\n",
    "                sources=[probe],\n",
    "            )\n",
    "            (is_success, response) = atlas_request.create()\n",
    "            if is_success:\n",
    "                req_ids += response['measurements']\n",
    "                targets.remove(_domain)\n",
    "            else:\n",
    "                print(str(response))"
   ]
  },
  {
   "cell_type": "code",
   "execution_count": 152,
   "metadata": {},
   "outputs": [],
   "source": [
    "f = open('../fresh_dns/dns_data', 'rb')\n",
    "pcl = pickle.Unpickler(f)\n",
    "dns_data = pcl.load()\n",
    "# dns_data is dict of domain:[list]\n",
    "res = dns_data['facebook'] # List of all dictionaries (subdomain:dict)"
   ]
  },
  {
   "cell_type": "code",
   "execution_count": 155,
   "metadata": {},
   "outputs": [],
   "source": [
    "rr = res[4]['ar-ar.facebook.com.'] # dict of {ProbeId: DNS Result}"
   ]
  },
  {
   "cell_type": "code",
   "execution_count": 161,
   "metadata": {},
   "outputs": [
    {
     "data": {
      "text/plain": [
       "Measurement #8334367, Probe #15397"
      ]
     },
     "execution_count": 161,
     "metadata": {},
     "output_type": "execute_result"
    }
   ],
   "source": [
    "rr[15397].responses[0].abuf.answers[0].raw_data"
   ]
  },
  {
   "cell_type": "code",
   "execution_count": 139,
   "metadata": {},
   "outputs": [
    {
     "data": {
      "text/plain": [
       "362"
      ]
     },
     "execution_count": 139,
     "metadata": {},
     "output_type": "execute_result"
    }
   ],
   "source": [
    "f = open('../fresh_dns/dns_request_ids', 'r')\n",
    "line = f.readline()\n",
    "req_ids = [int(v) for v in list(line[1:-1].split(','))]\n",
    "len(req_ids)"
   ]
  },
  {
   "cell_type": "code",
   "execution_count": 134,
   "metadata": {},
   "outputs": [],
   "source": [
    "done = []\n",
    "for r in req_ids:\n",
    "    m = Measurement(id=r)\n",
    "    done.append(m.meta_data['query_argument'])"
   ]
  },
  {
   "cell_type": "code",
   "execution_count": 136,
   "metadata": {},
   "outputs": [],
   "source": [
    "f1 = open('../resources/subdomains.txt', 'r')\n",
    "lines = [(line.strip() + '.') for line in f1.readlines()]\n",
    "ans = set(lines).difference(set(done))"
   ]
  },
  {
   "cell_type": "code",
   "execution_count": 141,
   "metadata": {},
   "outputs": [
    {
     "data": {
      "text/plain": [
       "30"
      ]
     },
     "execution_count": 141,
     "metadata": {},
     "output_type": "execute_result"
    }
   ],
   "source": [
    "len(ans)"
   ]
  },
  {
   "cell_type": "code",
   "execution_count": 142,
   "metadata": {},
   "outputs": [
    {
     "data": {
      "text/plain": [
       "{'absa.co.za.',\n",
       " 'annualreport2015.standardbank.com.',\n",
       " 'blog.absa.co.za.',\n",
       " 'careers.standardbank.com.',\n",
       " 'cib.absa.co.za.',\n",
       " 'community.standardbank.co.za.',\n",
       " 'corporateandinvestment.standardbank.com.',\n",
       " 'gaming.supersport.com.',\n",
       " 'ib.absa.co.za.',\n",
       " 'images.supersport.com.',\n",
       " 'instantbusiness.absa.co.za.',\n",
       " 'lifeinsurance.standardbank.co.za.',\n",
       " 'merchantsolutions.standardbank.co.za.',\n",
       " 'reporting.standardbank.com.',\n",
       " 'sponsorships.standardbank.com.',\n",
       " 'standardbank.co.za.',\n",
       " 'supersport.com.',\n",
       " 'ucount.standardbank.co.za.',\n",
       " 'www.absa.co.za.',\n",
       " 'www.standardbank.cd.',\n",
       " 'www.standardbank.co.ao.',\n",
       " 'www.standardbank.co.mw.',\n",
       " 'www.standardbank.co.mz.',\n",
       " 'www.standardbank.co.sz.',\n",
       " 'www.standardbank.co.za.',\n",
       " 'www.standardbank.com.',\n",
       " 'www.standardbank.com.na.',\n",
       " 'www.standardbank.mu.',\n",
       " 'www.supersport.com.',\n",
       " 'www.wealthandinvestment.standardbank.com.'}"
      ]
     },
     "execution_count": 142,
     "metadata": {},
     "output_type": "execute_result"
    }
   ],
   "source": [
    "ans"
   ]
  },
  {
   "cell_type": "code",
   "execution_count": null,
   "metadata": {
    "collapsed": true
   },
   "outputs": [],
   "source": [
    "final_dict = dict()\n",
    "count = 1\n",
    "for (domain_name, value) in ping_dict.items():\n",
    "    for item in value:\n",
    "        for (subdomain_name, p_list) in item.items():\n",
    "            print(subdomain_name)\n",
    "            for p_id in p_list.keys():\n",
    "                p = Probe(id=p_id)\n",
    "                c_code = p.country_code\n",
    "                if c_code not in final_dict:\n",
    "                    final_dict[c_code] = dict()\n",
    "                if subdomain_name not in final_dict[c_code]:\n",
    "                    final_dict[c_code][subdomain_name] = []\n",
    "                final_dict[c_code][subdomain_name].append(p_id)\n",
    "    count += 1\n",
    "    if count == 2:\n",
    "        exit()"
   ]
  }
 ],
 "metadata": {
  "kernelspec": {
   "display_name": "Python 3",
   "language": "python",
   "name": "python3"
  },
  "language_info": {
   "codemirror_mode": {
    "name": "ipython",
    "version": 3.0
   },
   "file_extension": ".py",
   "mimetype": "text/x-python",
   "name": "python",
   "nbconvert_exporter": "python",
   "pygments_lexer": "ipython3",
   "version": "3.5.2"
  }
 },
 "nbformat": 4,
 "nbformat_minor": 0
}