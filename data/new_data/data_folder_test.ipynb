{
 "cells": [
  {
   "cell_type": "code",
   "execution_count": null,
   "metadata": {
    "collapsed": true
   },
   "outputs": [],
   "source": [
    "import json\n",
    "from ripe.atlas.cousteau import Measurement, Probe\n",
    "from ripe.atlas.sagan import PingResult, DnsResult\n",
    "import pickle\n",
    "f = open('trace_data', 'rb')\n",
    "upcl = pickle.Unpickler(f)\n",
    "ping_dict = upcl.load()"
   ]
  },
  {
   "cell_type": "code",
   "execution_count": null,
   "metadata": {},
   "outputs": [],
   "source": [
    "ping_dict"
   ]
  },
  {
   "cell_type": "code",
   "execution_count": 224,
   "metadata": {},
   "outputs": [
    {
     "data": {
      "text/plain": [
       "{'AE': [14267],\n",
       " 'AU': [22281, 21818, 29423],\n",
       " 'BJ': [11944, 22235, 22205],\n",
       " 'BR': [],\n",
       " 'BY': [27840],\n",
       " 'CM': [17889, 21770, 17973, 17901],\n",
       " 'CN': [18881],\n",
       " 'CZ': [],\n",
       " 'EG': [28068, 16687],\n",
       " 'ES': [23208],\n",
       " 'GB': [17343],\n",
       " 'GH': [14945, 12487],\n",
       " 'IN': [24887],\n",
       " 'IT': [],\n",
       " 'JP': [],\n",
       " 'MA': [12344, 4199],\n",
       " 'NG': [12195, 21395, 18246],\n",
       " 'SD': [4061],\n",
       " 'SE': [],\n",
       " 'SN': [22522, 11383, 28493, 239],\n",
       " 'SZ': [13804],\n",
       " 'TR': [],\n",
       " 'TZ': [20772, 27972, 24720, 24785, 23538, 6224, 19925, 24728, 24798, 13887],\n",
       " 'US': [],\n",
       " 'ZA': [13728, 18114, 15397, 22252, 16430, 14384, 13746, 18195, 14971, 3454],\n",
       " 'ZM': [21026, 13519, 14451, 13755, 13758],\n",
       " 'ZW': [22216, 16753]}"
      ]
     },
     "execution_count": 224,
     "metadata": {},
     "output_type": "execute_result"
    }
   ],
   "source": [
    "pf = open('all_two_intersection.json', 'r')\n",
    "probe_dict = json.load(pf)\n",
    "probe_dict"
   ]
  },
  {
   "cell_type": "code",
   "execution_count": 232,
   "metadata": {},
   "outputs": [],
   "source": [
    "res = ping_dict['absa'][0]['absa.co.za'][239]\n",
    "res."
   ]
  },
  {
   "cell_type": "code",
   "execution_count": 248,
   "metadata": {},
   "outputs": [
    {
     "name": "stdout",
     "output_type": "stream",
     "text": [
      "Measurement #7835450, Probe #22216\n",
      "Measurement #7835465, Probe #22216\n",
      "Measurement #7835468, Probe #22216\n",
      "Measurement #7835471, Probe #22216\n",
      "Measurement #7852932, Probe #22216\n",
      "Measurement #7853040, Probe #22216\n"
     ]
    }
   ],
   "source": [
    "fail = 0\n",
    "count = 0\n",
    "for (domain,values) in ping_dict.items():\n",
    "    for sub_dict in values:\n",
    "        for (subdomain, dd) in sub_dict.items():\n",
    "            for (probe_id, msm) in dd.items():\n",
    "                if probe_id == 22216:\n",
    "                    if msm.rtt_median == None and domain == 'amazon':\n",
    "                        print(msm)\n",
    "                        fail += 1\n",
    "                    elif domain == 'amazon':\n",
    "                        count += 1"
   ]
  },
  {
   "cell_type": "code",
   "execution_count": 251,
   "metadata": {},
   "outputs": [],
   "source": [
    "d = {\"BJ\": [11944, 22235, 22205], \"TZ\": [20772, 27972, 24720, 24785, 23538, 6224, 19925, 24728, 24798, 13887], \"US\": [], \"ZA\": [13728, 18114, 15397, 22252, 16430, 14384, 13746, 18195, 14971, 3454], \"BY\": [27840], \"SN\": [22522, 11383, 28493, 239], \"NG\": [12195, 21395, 18246], \"JP\": [], \"MA\": [12344, 4199], \"AU\": [22281, 21818, 29423], \"GH\": [14945, 12487], \"AE\": [14267], \"GB\": [17343], \"ZM\": [21026, 13519, 14451, 13755, 13758], \"SZ\": [13804], \"SD\": [4061], \"BR\": [], \"IT\": [], \"CN\": [18881], \"TR\": [], \"EG\": [28068, 16687], \"ZW\": [22216, 16753], \"CM\": [17889, 21770, 17973, 17901], \"CZ\": [], \"SE\": [], \"ES\": [23208], \"IN\": [24887]}"
   ]
  },
  {
   "cell_type": "code",
   "execution_count": 254,
   "metadata": {},
   "outputs": [],
   "source": [
    "l = []\n",
    "for k,v in d.items():\n",
    "    if v is not None:\n",
    "        l.append(k)"
   ]
  },
  {
   "cell_type": "code",
   "execution_count": 255,
   "metadata": {},
   "outputs": [
    {
     "data": {
      "text/plain": [
       "['ES',\n",
       " 'ZA',\n",
       " 'JP',\n",
       " 'TR',\n",
       " 'AU',\n",
       " 'AE',\n",
       " 'CM',\n",
       " 'SE',\n",
       " 'SN',\n",
       " 'US',\n",
       " 'IN',\n",
       " 'TZ',\n",
       " 'IT',\n",
       " 'CZ',\n",
       " 'BJ',\n",
       " 'GH',\n",
       " 'NG',\n",
       " 'SD',\n",
       " 'ZW',\n",
       " 'GB',\n",
       " 'SZ',\n",
       " 'BR',\n",
       " 'CN',\n",
       " 'EG',\n",
       " 'ZM',\n",
       " 'BY',\n",
       " 'MA']"
      ]
     },
     "execution_count": 255,
     "metadata": {},
     "output_type": "execute_result"
    }
   ],
   "source": [
    "l"
   ]
  },
  {
   "cell_type": "code",
   "execution_count": 165,
   "metadata": {
    "collapsed": true
   },
   "outputs": [],
   "source": [
    "with_probe_res = DnsResult({\"from\":\"169.0.202.183\",\"fw\":4770,\"group_id\":8329363,\"lts\":2,\"msm_id\":8329363,\"msm_name\":\"Tdig\",\"prb_id\":14384,\"resultset\":[{\"af\":4,\"dst_addr\":\"192.168.20.1\",\"lts\":2,\"proto\":\"UDP\",\"result\":{\"ANCOUNT\":0,\"ARCOUNT\":0,\"ID\":45298,\"NSCOUNT\":0,\"QDCOUNT\":1,\"abuf\":\"sPKBgwABAAAAAAAABTE0Mzg0CjE0OTMyNzA1OTkPaW5zdGFudGJ1c2luZXNzBGFic2ECY28CemEAAAEAAQ==\",\"rt\":78.666,\"size\":61},\"src_addr\":\"192.168.20.6\",\"subid\":1,\"submax\":1,\"time\":1493270599}],\"timestamp\":1493270599,\"type\":\"dns\"})\n",
    "without_probes_res = DnsResult({\"from\":\"169.0.202.183\",\"fw\":4770,\"group_id\":8329364,\"lts\":44,\"msm_id\":8329364,\"msm_name\":\"Tdig\",\"prb_id\":14384,\"resultset\":[{\"af\":4,\"dst_addr\":\"192.168.20.1\",\"lts\":44,\"proto\":\"UDP\",\"result\":{\"ANCOUNT\":1,\"ARCOUNT\":0,\"ID\":22081,\"NSCOUNT\":0,\"QDCOUNT\":1,\"abuf\":\"VkGBgAABAAEAAAAAD2luc3RhbnRidXNpbmVzcwRhYnNhAmNvAnphAAABAAHADAABAAEAAAJYAASpygmx\",\"rt\":97.2,\"size\":60},\"src_addr\":\"192.168.20.6\",\"subid\":1,\"submax\":1,\"time\":1493270674}],\"timestamp\":1493270674,\"type\":\"dns\"})"
   ]
  },
  {
   "cell_type": "code",
   "execution_count": 166,
   "metadata": {
    "collapsed": true
   },
   "outputs": [],
   "source": [
    "r1 = with_probe_res.responses[0]\n",
    "r2 = without_probes_res.responses[0]"
   ]
  },
  {
   "cell_type": "code",
   "execution_count": 171,
   "metadata": {
    "collapsed": true
   },
   "outputs": [],
   "source": [
    "# a1 = r1.abuf\n",
    "a2 = r2.abuf"
   ]
  },
  {
   "cell_type": "code",
   "execution_count": 172,
   "metadata": {},
   "outputs": [
    {
     "data": {
      "text/plain": [
       "[<ripe.atlas.sagan.dns.AAnswer at 0x114a92be0>]"
      ]
     },
     "execution_count": 172,
     "metadata": {},
     "output_type": "execute_result"
    }
   ],
   "source": [
    "a2.answers"
   ]
  },
  {
   "cell_type": "code",
   "execution_count": 161,
   "metadata": {},
   "outputs": [
    {
     "data": {
      "text/plain": [
       "{'Address': '169.202.9.177',\n",
       " 'Class': 'IN',\n",
       " 'Name': 'instantbusiness.absa.co.za.',\n",
       " 'RDlength': 4,\n",
       " 'TTL': 600,\n",
       " 'Type': 'A'}"
      ]
     },
     "execution_count": 161,
     "metadata": {},
     "output_type": "execute_result"
    }
   ],
   "source": [
    "ans2.raw_data"
   ]
  }
 ],
 "metadata": {
  "kernelspec": {
   "display_name": "Python 3",
   "language": "python",
   "name": "python3"
  },
  "language_info": {
   "codemirror_mode": {
    "name": "ipython",
    "version": 3.0
   },
   "file_extension": ".py",
   "mimetype": "text/x-python",
   "name": "python",
   "nbconvert_exporter": "python",
   "pygments_lexer": "ipython3",
   "version": "3.5.2"
  }
 },
 "nbformat": 4,
 "nbformat_minor": 0
}