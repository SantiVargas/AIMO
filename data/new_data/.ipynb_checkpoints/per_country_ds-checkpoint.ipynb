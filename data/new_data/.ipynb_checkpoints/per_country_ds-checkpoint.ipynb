{
 "cells": [
  {
   "cell_type": "code",
   "execution_count": 21,
   "metadata": {},
   "outputs": [],
   "source": [
    "f_list = ['countrywise_dns.json', 'countrywise_ping.json', 'countrywise_trace.json']\n",
    "import json\n",
    "for f_index in f_list:\n",
    "    f = open(f_index, 'r')\n",
    "    data_dict = json.load(f)\n",
    "    f.close()\n",
    "    final_dict = dict()\n",
    "    for (country_code, values) in data_dict.items():\n",
    "        probe_set = set()\n",
    "        for (subdomain, probe_list) in values.items():\n",
    "            if not probe_set or len(probe_set) == 0:\n",
    "                probe_set = set(probe_list)\n",
    "            else:\n",
    "                probe_set = probe_set.intersection(set(probe_list))\n",
    "        final_dict[country_code] = list(probe_set)   \n",
    "    final_file = open('intersected_' + f_index, 'w')\n",
    "    final_file.write(json.dumps(final_dict))\n",
    "    final_file.close()"
   ]
  },
  {
   "cell_type": "code",
   "execution_count": 29,
   "metadata": {},
   "outputs": [],
   "source": [
    "ping_file = open('intersected_countrywise_ping.json', 'r')\n",
    "dns_file = open('intersected_countrywise_dns.json', 'r')\n",
    "trace_file = open('intersected_countrywise_trace.json', 'r')\n",
    "ping_dict = json.load(ping_file)\n",
    "dns_dict = json.load(dns_file)\n",
    "trace_dict = json.load(trace_file)\n",
    "final_dict = dict()\n",
    "for country in ping_dict:\n",
    "    if country in dns_dict and country in trace_dict:\n",
    "        final_dict[country] = list(set(set(ping_dict[country]).intersection(set(dns_dict[country]))).intersection(set(trace_dict[country])))"
   ]
  },
  {
   "cell_type": "code",
   "execution_count": 30,
   "metadata": {},
   "outputs": [
    {
     "data": {
      "text/plain": [
       "{'AE': [],\n",
       " 'AU': [],\n",
       " 'BJ': [11944, 22235, 22205],\n",
       " 'BR': [],\n",
       " 'BY': [],\n",
       " 'CM': [17973, 17901],\n",
       " 'CN': [],\n",
       " 'CZ': [],\n",
       " 'EG': [],\n",
       " 'ES': [],\n",
       " 'GB': [],\n",
       " 'GH': [14945],\n",
       " 'IN': [],\n",
       " 'IT': [],\n",
       " 'JP': [],\n",
       " 'MA': [12344, 4199],\n",
       " 'NG': [12195, 18246],\n",
       " 'SD': [4061],\n",
       " 'SE': [],\n",
       " 'SN': [28493, 11383],\n",
       " 'SZ': [13804],\n",
       " 'TR': [],\n",
       " 'TZ': [20772, 24720, 24785, 23538, 6224, 19925, 24728, 24798, 13887],\n",
       " 'US': [],\n",
       " 'ZA': [14384, 18195, 22252, 14971],\n",
       " 'ZM': [14451, 13758, 13519],\n",
       " 'ZW': [22216]}"
      ]
     },
     "execution_count": 30,
     "metadata": {},
     "output_type": "execute_result"
    }
   ],
   "source": [
    "final_dict"
   ]
  }
 ],
 "metadata": {
  "kernelspec": {
   "display_name": "Python 3",
   "language": "python",
   "name": "python3"
  },
  "language_info": {
   "codemirror_mode": {
    "name": "ipython",
    "version": 3
   },
   "file_extension": ".py",
   "mimetype": "text/x-python",
   "name": "python",
   "nbconvert_exporter": "python",
   "pygments_lexer": "ipython3",
   "version": "3.5.2"
  }
 },
 "nbformat": 4,
 "nbformat_minor": 2
}
