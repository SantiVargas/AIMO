{
 "cells": [
  {
   "cell_type": "code",
   "execution_count": 21,
   "metadata": {},
   "outputs": [],
   "source": [
    "f_list = ['countrywise_dns.json', 'countrywise_ping.json', 'countrywise_trace.json']\n",
    "import json\n",
    "for f_index in f_list:\n",
    "    f = open(f_index, 'r')\n",
    "    data_dict = json.load(f)\n",
    "    f.close()\n",
    "    final_dict = dict()\n",
    "    for (country_code, values) in data_dict.items():\n",
    "        probe_set = set()\n",
    "        for (subdomain, probe_list) in values.items():\n",
    "            if not probe_set or len(probe_set) == 0:\n",
    "                probe_set = set(probe_list)\n",
    "            else:\n",
    "                probe_set = probe_set.intersection(set(probe_list))\n",
    "        final_dict[country_code] = list(probe_set)   \n",
    "    final_file = open('intersected_' + f_index, 'w')\n",
    "    final_file.write(json.dumps(final_dict))\n",
    "    final_file.close()"
   ]
  },
  {
   "cell_type": "code",
   "execution_count": 29,
   "metadata": {},
   "outputs": [],
   "source": [
    "ping_file = open('intersected_countrywise_ping.json', 'r')\n",
    "dns_file = open('intersected_countrywise_dns.json', 'r')\n",
    "trace_file = open('intersected_countrywise_trace.json', 'r')\n",
    "ping_dict = json.load(ping_file)\n",
    "dns_dict = json.load(dns_file)\n",
    "trace_dict = json.load(trace_file)\n",
    "final_dict = dict()\n",
    "for country in ping_dict:\n",
    "    if country in dns_dict and country in trace_dict:\n",
    "        final_dict[country] = list(set(set(ping_dict[country]).intersection(set(dns_dict[country]))).intersection(set(trace_dict[country])))"
   ]
  },
  {
   "cell_type": "code",
   "execution_count": 34,
   "metadata": {},
   "outputs": [],
   "source": [
    "final_file = open('all_three_intersection.json', 'w')\n",
    "final_file.write(json.dumps(final_dict))\n",
    "final_file.close()"
   ]
  }
 ],
 "metadata": {
  "kernelspec": {
   "display_name": "Python 3",
   "language": "python",
   "name": "python3"
  },
  "language_info": {
   "codemirror_mode": {
    "name": "ipython",
    "version": 3.0
   },
   "file_extension": ".py",
   "mimetype": "text/x-python",
   "name": "python",
   "nbconvert_exporter": "python",
   "pygments_lexer": "ipython3",
   "version": "3.5.2"
  }
 },
 "nbformat": 4,
 "nbformat_minor": 0
}