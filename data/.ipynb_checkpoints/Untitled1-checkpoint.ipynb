{
 "cells": [
  {
   "cell_type": "code",
   "execution_count": 2,
   "metadata": {
    "collapsed": true
   },
   "outputs": [],
   "source": [
    "from ripe.atlas.sagan import PingResult, DnsResult\n",
    "from ripe.atlas.cousteau import Measurement"
   ]
  },
  {
   "cell_type": "code",
   "execution_count": 8,
   "metadata": {
    "collapsed": true
   },
   "outputs": [],
   "source": [
    "f = open(\"./ping_data\", \"rb\")\n",
    "import pickle"
   ]
  },
  {
   "cell_type": "code",
   "execution_count": 9,
   "metadata": {},
   "outputs": [],
   "source": [
    "try:\n",
    "    unpickler = pickle.Unpickler(f)\n",
    "    dns_dict = unpickler.load()\n",
    "except EOFError:\n",
    "    pass"
   ]
  },
  {
   "cell_type": "code",
   "execution_count": 10,
   "metadata": {},
   "outputs": [
    {
     "data": {
      "text/plain": [
       "{'': {'': {239: Measurement #7853812, Probe #239,\n",
       "   2608: Measurement #7853812, Probe #2608,\n",
       "   3386: Measurement #7853812, Probe #3386,\n",
       "   3454: Measurement #7853812, Probe #3454,\n",
       "   4061: Measurement #7853812, Probe #4061,\n",
       "   4199: Measurement #7853812, Probe #4199,\n",
       "   4274: Measurement #7853812, Probe #4274,\n",
       "   6224: Measurement #7853812, Probe #6224,\n",
       "   10200: Measurement #7853812, Probe #10200,\n",
       "   11182: Measurement #7853812, Probe #11182,\n",
       "   11383: Measurement #7853812, Probe #11383,\n",
       "   11660: Measurement #7853812, Probe #11660,\n",
       "   11944: Measurement #7853812, Probe #11944,\n",
       "   12195: Measurement #7853812, Probe #12195,\n",
       "   12344: Measurement #7853812, Probe #12344,\n",
       "   12465: Measurement #7853812, Probe #12465,\n",
       "   12487: Measurement #7853812, Probe #12487,\n",
       "   12956: Measurement #7853812, Probe #12956,\n",
       "   12968: Measurement #7853812, Probe #12968,\n",
       "   13151: Measurement #7853812, Probe #13151,\n",
       "   13239: Measurement #7853812, Probe #13239,\n",
       "   13519: Measurement #7853812, Probe #13519,\n",
       "   13711: Measurement #7853812, Probe #13711,\n",
       "   13728: Measurement #7853812, Probe #13728,\n",
       "   13746: Measurement #7853812, Probe #13746,\n",
       "   13755: Measurement #7853812, Probe #13755,\n",
       "   13758: Measurement #7853812, Probe #13758,\n",
       "   13804: Measurement #7853812, Probe #13804,\n",
       "   13887: Measurement #7853812, Probe #13887,\n",
       "   14267: Measurement #7853812, Probe #14267,\n",
       "   14384: Measurement #7853812, Probe #14384,\n",
       "   14451: Measurement #7853812, Probe #14451,\n",
       "   14578: Measurement #7853812, Probe #14578,\n",
       "   14788: Measurement #7853812, Probe #14788,\n",
       "   14865: Measurement #7853812, Probe #14865,\n",
       "   14870: Measurement #7853812, Probe #14870,\n",
       "   14945: Measurement #7853812, Probe #14945,\n",
       "   14971: Measurement #7853812, Probe #14971,\n",
       "   15397: Measurement #7853812, Probe #15397,\n",
       "   15645: Measurement #7853812, Probe #15645,\n",
       "   16430: Measurement #7853812, Probe #16430,\n",
       "   16687: Measurement #7853812, Probe #16687,\n",
       "   16730: Measurement #7853812, Probe #16730,\n",
       "   16735: Measurement #7853812, Probe #16735,\n",
       "   16753: Measurement #7853812, Probe #16753,\n",
       "   16777: Measurement #7853812, Probe #16777,\n",
       "   17343: Measurement #7853812, Probe #17343,\n",
       "   17889: Measurement #7853812, Probe #17889,\n",
       "   17901: Measurement #7853812, Probe #17901,\n",
       "   17973: Measurement #7853812, Probe #17973,\n",
       "   18114: Measurement #7853812, Probe #18114,\n",
       "   18129: Measurement #7853812, Probe #18129,\n",
       "   18131: Measurement #7853812, Probe #18131,\n",
       "   18195: Measurement #7853812, Probe #18195,\n",
       "   18246: Measurement #7853812, Probe #18246,\n",
       "   18881: Measurement #7853812, Probe #18881,\n",
       "   19022: Measurement #7853812, Probe #19022,\n",
       "   19302: Measurement #7853812, Probe #19302,\n",
       "   19472: Measurement #7853812, Probe #19472,\n",
       "   19778: Measurement #7853812, Probe #19778,\n",
       "   19925: Measurement #7853812, Probe #19925,\n",
       "   19968: Measurement #7853812, Probe #19968,\n",
       "   20019: Measurement #7853812, Probe #20019,\n",
       "   20347: Measurement #7853812, Probe #20347,\n",
       "   20630: Measurement #7853812, Probe #20630,\n",
       "   20717: Measurement #7853812, Probe #20717,\n",
       "   20724: Measurement #7853812, Probe #20724,\n",
       "   20772: Measurement #7853812, Probe #20772,\n",
       "   20794: Measurement #7853812, Probe #20794,\n",
       "   20814: Measurement #7853812, Probe #20814,\n",
       "   21026: Measurement #7853812, Probe #21026,\n",
       "   21120: Measurement #7853812, Probe #21120,\n",
       "   21175: Measurement #7853812, Probe #21175,\n",
       "   21395: Measurement #7853812, Probe #21395,\n",
       "   21634: Measurement #7853812, Probe #21634,\n",
       "   21682: Measurement #7853812, Probe #21682,\n",
       "   21770: Measurement #7853812, Probe #21770,\n",
       "   21818: Measurement #7853812, Probe #21818,\n",
       "   21832: Measurement #7853812, Probe #21832,\n",
       "   21987: Measurement #7853812, Probe #21987,\n",
       "   22003: Measurement #7853812, Probe #22003,\n",
       "   22205: Measurement #7853812, Probe #22205,\n",
       "   22216: Measurement #7853812, Probe #22216,\n",
       "   22222: Measurement #7853812, Probe #22222,\n",
       "   22235: Measurement #7853812, Probe #22235,\n",
       "   22252: Measurement #7853812, Probe #22252,\n",
       "   22281: Measurement #7853812, Probe #22281,\n",
       "   22516: Measurement #7853812, Probe #22516,\n",
       "   22522: Measurement #7853812, Probe #22522,\n",
       "   23208: Measurement #7853812, Probe #23208,\n",
       "   23538: Measurement #7853812, Probe #23538,\n",
       "   23540: Measurement #7853812, Probe #23540,\n",
       "   24606: Measurement #7853812, Probe #24606,\n",
       "   24608: Measurement #7853812, Probe #24608,\n",
       "   24720: Measurement #7853812, Probe #24720,\n",
       "   24728: Measurement #7853812, Probe #24728,\n",
       "   24785: Measurement #7853812, Probe #24785,\n",
       "   24798: Measurement #7853812, Probe #24798,\n",
       "   24887: Measurement #7853812, Probe #24887,\n",
       "   25093: Measurement #7853812, Probe #25093,\n",
       "   25261: Measurement #7853812, Probe #25261,\n",
       "   26993: Measurement #7853812, Probe #26993,\n",
       "   27840: Measurement #7853812, Probe #27840,\n",
       "   27972: Measurement #7853812, Probe #27972,\n",
       "   28068: Measurement #7853812, Probe #28068,\n",
       "   28177: Measurement #7853812, Probe #28177,\n",
       "   28445: Measurement #7853812, Probe #28445,\n",
       "   28493: Measurement #7853812, Probe #28493,\n",
       "   28638: Measurement #7853812, Probe #28638,\n",
       "   28807: Measurement #7853812, Probe #28807,\n",
       "   28822: Measurement #7853812, Probe #28822,\n",
       "   28841: Measurement #7853812, Probe #28841,\n",
       "   28878: Measurement #7853812, Probe #28878,\n",
       "   29098: Measurement #7853812, Probe #29098,\n",
       "   29423: Measurement #7853812, Probe #29423,\n",
       "   31253: Measurement #7853812, Probe #31253}}}"
      ]
     },
     "execution_count": 10,
     "metadata": {},
     "output_type": "execute_result"
    }
   ],
   "source": [
    "dns_dict[]"
   ]
  }
 ],
 "metadata": {
  "kernelspec": {
   "display_name": "Python 3",
   "language": "python",
   "name": "python3"
  },
  "language_info": {
   "codemirror_mode": {
    "name": "ipython",
    "version": 3
   },
   "file_extension": ".py",
   "mimetype": "text/x-python",
   "name": "python",
   "nbconvert_exporter": "python",
   "pygments_lexer": "ipython3",
   "version": "3.5.2"
  }
 },
 "nbformat": 4,
 "nbformat_minor": 2
}
