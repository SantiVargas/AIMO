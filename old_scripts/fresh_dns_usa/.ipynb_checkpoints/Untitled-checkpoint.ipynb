{
 "cells": [
  {
   "cell_type": "code",
   "execution_count": 8,
   "metadata": {
    "collapsed": true
   },
   "outputs": [],
   "source": [
    "from ripe.atlas.sagan import DnsResult\n",
    "from ripe.atlas.cousteau import Measurement"
   ]
  },
  {
   "cell_type": "code",
   "execution_count": 46,
   "metadata": {},
   "outputs": [
    {
     "name": "stdout",
     "output_type": "stream",
     "text": [
      "maps.google.com\n"
     ]
    }
   ],
   "source": [
    "f = open('./remaining_subdomains.txt', 'r')\n",
    "lines = [line.strip() for line in f.readlines()]\n",
    "\n",
    "for i in range(8338947, 8339111):\n",
    "    msm = Measurement(id=i)\n",
    "    if msm.type == 'dns':\n",
    "        domain = msm.meta_data['query_argument'][:-1]\n",
    "        if domain in lines or domain + '.' in lines:\n",
    "            print(domain)\n",
    "            lines.remove(domain) "
   ]
  },
  {
   "cell_type": "code",
   "execution_count": 50,
   "metadata": {},
   "outputs": [
    {
     "data": {
      "text/plain": [
       "193"
      ]
     },
     "execution_count": 50,
     "metadata": {},
     "output_type": "execute_result"
    }
   ],
   "source": [
    "len(lines)"
   ]
  },
  {
   "cell_type": "code",
   "execution_count": 6,
   "metadata": {},
   "outputs": [
    {
     "data": {
      "text/plain": [
       "[8338389,\n",
       " 8338390,\n",
       " 8338391,\n",
       " 8338392,\n",
       " 8338393,\n",
       " 8338394,\n",
       " 8338395,\n",
       " 8338396,\n",
       " 8338397,\n",
       " 8338398,\n",
       " 8338399]"
      ]
     },
     "execution_count": 6,
     "metadata": {},
     "output_type": "execute_result"
    }
   ],
   "source": [
    "nl = []\n",
    "for l in a:\n",
    "    nl = nl + l\n",
    "nl"
   ]
  }
 ],
 "metadata": {
  "kernelspec": {
   "display_name": "Python 3",
   "language": "python",
   "name": "python3"
  },
  "language_info": {
   "codemirror_mode": {
    "name": "ipython",
    "version": 3
   },
   "file_extension": ".py",
   "mimetype": "text/x-python",
   "name": "python",
   "nbconvert_exporter": "python",
   "pygments_lexer": "ipython3",
   "version": "3.5.2"
  }
 },
 "nbformat": 4,
 "nbformat_minor": 2
}
