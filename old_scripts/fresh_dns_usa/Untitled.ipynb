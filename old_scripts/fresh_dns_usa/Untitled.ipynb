{
 "cells": [
  {
   "cell_type": "code",
   "execution_count": 89,
   "metadata": {},
   "outputs": [
    {
     "ename": "FileNotFoundError",
     "evalue": "[Errno 2] No such file or directory: '../fresh_dns_usa/dns_data'",
     "output_type": "error",
     "traceback": [
      "\u001b[0;31m---------------------------------------------------------------------------\u001b[0m",
      "\u001b[0;31mFileNotFoundError\u001b[0m                         Traceback (most recent call last)",
      "\u001b[0;32m<ipython-input-89-dd433cecc2c0>\u001b[0m in \u001b[0;36m<module>\u001b[0;34m()\u001b[0m\n\u001b[1;32m      2\u001b[0m \u001b[0;32mfrom\u001b[0m \u001b[0mripe\u001b[0m\u001b[0;34m.\u001b[0m\u001b[0matlas\u001b[0m\u001b[0;34m.\u001b[0m\u001b[0mcousteau\u001b[0m \u001b[0;32mimport\u001b[0m \u001b[0mMeasurement\u001b[0m\u001b[0;34m\u001b[0m\u001b[0m\n\u001b[1;32m      3\u001b[0m \u001b[0;32mimport\u001b[0m \u001b[0mpickle\u001b[0m\u001b[0;34m\u001b[0m\u001b[0m\n\u001b[0;32m----> 4\u001b[0;31m \u001b[0mf\u001b[0m \u001b[0;34m=\u001b[0m \u001b[0mopen\u001b[0m\u001b[0;34m(\u001b[0m\u001b[0;34m'../fresh_dns_usa/dns_data'\u001b[0m\u001b[0;34m,\u001b[0m \u001b[0;34m'rb'\u001b[0m\u001b[0;34m)\u001b[0m\u001b[0;34m\u001b[0m\u001b[0m\n\u001b[0m\u001b[1;32m      5\u001b[0m \u001b[0mpcl\u001b[0m \u001b[0;34m=\u001b[0m \u001b[0mpickle\u001b[0m\u001b[0;34m.\u001b[0m\u001b[0mUnpickler\u001b[0m\u001b[0;34m(\u001b[0m\u001b[0mf\u001b[0m\u001b[0;34m)\u001b[0m\u001b[0;34m\u001b[0m\u001b[0m\n\u001b[1;32m      6\u001b[0m \u001b[0mping_data\u001b[0m \u001b[0;34m=\u001b[0m \u001b[0mpcl\u001b[0m\u001b[0;34m.\u001b[0m\u001b[0mload\u001b[0m\u001b[0;34m(\u001b[0m\u001b[0;34m)\u001b[0m\u001b[0;34m\u001b[0m\u001b[0m\n",
      "\u001b[0;31mFileNotFoundError\u001b[0m: [Errno 2] No such file or directory: '../fresh_dns_usa/dns_data'"
     ]
    }
   ],
   "source": [
    "from ripe.atlas.sagan import DnsResult\n",
    "from ripe.atlas.cousteau import Measurement\n",
    "import pickle\n",
    "f = open('../fresh_dns_usa/dns_data', 'rb')\n",
    "pcl = pickle.Unpickler(f)\n",
    "ping_data = pcl.load()"
   ]
  },
  {
   "cell_type": "code",
   "execution_count": 86,
   "metadata": {},
   "outputs": [],
   "source": [
    "res = ping_data['careers24'][0]['www.careers24.com'][22778]"
   ]
  },
  {
   "cell_type": "code",
   "execution_count": 88,
   "metadata": {},
   "outputs": [
    {
     "data": {
      "text/plain": [
       "245.984"
      ]
     },
     "execution_count": 88,
     "metadata": {},
     "output_type": "execute_result"
    }
   ],
   "source": [
    "res.rtt_median"
   ]
  },
  {
   "cell_type": "code",
   "execution_count": 60,
   "metadata": {},
   "outputs": [
    {
     "data": {
      "text/plain": [
       "['supersport.com',\n",
       " 'www.supersport.com',\n",
       " 'gaming.supersport.com',\n",
       " 'images.supersport.com',\n",
       " 'standardbank.co.za',\n",
       " 'www.standardbank.co.mz',\n",
       " 'www.standardbank.co.ao',\n",
       " 'www.standardbank.co.mw',\n",
       " 'www.standardbank.cd',\n",
       " 'lifeinsurance.standardbank.co.za',\n",
       " 'www.standardbank.co.za',\n",
       " 'sponsorships.standardbank.com',\n",
       " 'www.standardbank.com.na',\n",
       " 'ucount.standardbank.co.za',\n",
       " 'www.standardbank.co.sz',\n",
       " 'www.wealthandinvestment.standardbank.com',\n",
       " 'www.standardbank.mu',\n",
       " 'corporateandinvestment.standardbank.com',\n",
       " 'annualreport2015.standardbank.com',\n",
       " 'community.standardbank.co.za',\n",
       " 'reporting.standardbank.com',\n",
       " 'merchantsolutions.standardbank.co.za',\n",
       " 'careers.standardbank.com',\n",
       " 'www.standardbank.com',\n",
       " 'absa.co.za',\n",
       " 'ib.absa.co.za',\n",
       " 'www.absa.co.za',\n",
       " 'instantbusiness.absa.co.za',\n",
       " 'cib.absa.co.za',\n",
       " 'blog.absa.co.za',\n",
       " 'www.supersport.com']"
      ]
     },
     "execution_count": 60,
     "metadata": {},
     "output_type": "execute_result"
    }
   ],
   "source": [
    "lines"
   ]
  },
  {
   "cell_type": "code",
   "execution_count": 6,
   "metadata": {},
   "outputs": [
    {
     "data": {
      "text/plain": [
       "[8338389,\n",
       " 8338390,\n",
       " 8338391,\n",
       " 8338392,\n",
       " 8338393,\n",
       " 8338394,\n",
       " 8338395,\n",
       " 8338396,\n",
       " 8338397,\n",
       " 8338398,\n",
       " 8338399]"
      ]
     },
     "execution_count": 6,
     "metadata": {},
     "output_type": "execute_result"
    }
   ],
   "source": [
    "nl = []\n",
    "for l in a:\n",
    "    nl = nl + l\n",
    "nl"
   ]
  }
 ],
 "metadata": {
  "kernelspec": {
   "display_name": "Python 3",
   "language": "python",
   "name": "python3"
  },
  "language_info": {
   "codemirror_mode": {
    "name": "ipython",
    "version": 3
   },
   "file_extension": ".py",
   "mimetype": "text/x-python",
   "name": "python",
   "nbconvert_exporter": "python",
   "pygments_lexer": "ipython3",
   "version": "3.5.2"
  }
 },
 "nbformat": 4,
 "nbformat_minor": 2
}
