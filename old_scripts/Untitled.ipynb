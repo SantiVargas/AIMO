{
 "cells": [
  {
   "cell_type": "code",
   "execution_count": 8,
   "metadata": {},
   "outputs": [],
   "source": [
    "from ripe.atlas.cousteau import  Measurement, Probe"
   ]
  },
  {
   "cell_type": "code",
   "execution_count": 9,
   "metadata": {},
   "outputs": [],
   "source": [
    "m = Probe(id=13231)"
   ]
  },
  {
   "cell_type": "code",
   "execution_count": 10,
   "metadata": {},
   "outputs": [
    {
     "data": {
      "text/plain": [
       "{'address_v4': None,\n",
       " 'address_v6': None,\n",
       " 'asn_v4': 36874,\n",
       " 'asn_v6': None,\n",
       " 'country_code': 'ZA',\n",
       " 'description': None,\n",
       " 'first_connected': 1387467781,\n",
       " 'geometry': {'coordinates': [18.4185, -33.9225], 'type': 'Point'},\n",
       " 'id': 13231,\n",
       " 'is_anchor': False,\n",
       " 'is_public': False,\n",
       " 'last_connected': 1493908960,\n",
       " 'prefix_v4': '196.22.240.0/20',\n",
       " 'prefix_v6': None,\n",
       " 'status': {'id': 1, 'name': 'Connected', 'since': '2017-04-18T11:50:10Z'},\n",
       " 'status_since': 1492516210,\n",
       " 'tags': [{'name': 'NAT', 'slug': 'nat'},\n",
       "  {'name': 'system: V3', 'slug': 'system-v3'},\n",
       "  {'name': 'system: Resolves A Correctly',\n",
       "   'slug': 'system-resolves-a-correctly'},\n",
       "  {'name': 'system: Resolves AAAA Correctly',\n",
       "   'slug': 'system-resolves-aaaa-correctly'},\n",
       "  {'name': 'system: IPv4 Works', 'slug': 'system-ipv4-works'},\n",
       "  {'name': 'system: IPv4 Capable', 'slug': 'system-ipv4-capable'},\n",
       "  {'name': 'system: IPv4 RFC1918', 'slug': 'system-ipv4-rfc1918'},\n",
       "  {'name': 'system: IPv4 Stable 30d', 'slug': 'system-ipv4-stable-30d'},\n",
       "  {'name': 'system: IPv4 Stable 1d', 'slug': 'system-ipv4-stable-1d'}],\n",
       " 'total_uptime': 99969416,\n",
       " 'type': 'Probe'}"
      ]
     },
     "execution_count": 10,
     "metadata": {},
     "output_type": "execute_result"
    }
   ],
   "source": [
    "m.meta_data"
   ]
  },
  {
   "cell_type": "code",
   "execution_count": 12,
   "metadata": {},
   "outputs": [
    {
     "data": {
      "text/plain": [
       "{'address_v4': '105.16.136.2',\n",
       " 'address_v6': '2c0f:feb0:7:1::2',\n",
       " 'asn_v4': 37100,\n",
       " 'asn_v6': 37100,\n",
       " 'country_code': 'TZ',\n",
       " 'description': 'Dar Es Salaam, Tanzania',\n",
       " 'first_connected': 1464166514,\n",
       " 'geometry': {'coordinates': [39.2085, -6.7885], 'type': 'Point'},\n",
       " 'id': 24728,\n",
       " 'is_anchor': False,\n",
       " 'is_public': True,\n",
       " 'last_connected': 1493919741,\n",
       " 'prefix_v4': '105.16.0.0/12',\n",
       " 'prefix_v6': '2c0f:feb0::/32',\n",
       " 'status': {'id': 1, 'name': 'Connected', 'since': '2017-04-18T11:51:11Z'},\n",
       " 'status_since': 1492516271,\n",
       " 'tags': [{'name': 'system: V3', 'slug': 'system-v3'},\n",
       "  {'name': 'system: Resolves A Correctly',\n",
       "   'slug': 'system-resolves-a-correctly'},\n",
       "  {'name': 'system: Resolves AAAA Correctly',\n",
       "   'slug': 'system-resolves-aaaa-correctly'},\n",
       "  {'name': 'system: IPv4 Works', 'slug': 'system-ipv4-works'},\n",
       "  {'name': 'system: IPv6 Works', 'slug': 'system-ipv6-works'},\n",
       "  {'name': 'system: IPv4 Capable', 'slug': 'system-ipv4-capable'},\n",
       "  {'name': 'system: IPv6 Capable', 'slug': 'system-ipv6-capable'},\n",
       "  {'name': 'system: IPv6 Stable 30d', 'slug': 'system-ipv6-stable-30d'},\n",
       "  {'name': 'system: IPv6 Stable 1d', 'slug': 'system-ipv6-stable-1d'},\n",
       "  {'name': 'system: IPv4 Stable 30d', 'slug': 'system-ipv4-stable-30d'},\n",
       "  {'name': 'system: IPv4 Stable 90d', 'slug': 'system-ipv4-stable-90d'},\n",
       "  {'name': 'system: IPv6 Stable 90d', 'slug': 'system-ipv6-stable-90d'},\n",
       "  {'name': 'system: IPv4 Stable 1d', 'slug': 'system-ipv4-stable-1d'}],\n",
       " 'total_uptime': 29745064,\n",
       " 'type': 'Probe'}"
      ]
     },
     "execution_count": 12,
     "metadata": {},
     "output_type": "execute_result"
    }
   ],
   "source": [
    "m1 = Probe(id=24728)\n",
    "m1.meta_data"
   ]
  },
  {
   "cell_type": "code",
   "execution_count": 56,
   "metadata": {
    "collapsed": true
   },
   "outputs": [],
   "source": [
    "u = urllib.request.urlopen(url);\n",
    "data = json.loads(u.read().decode())"
   ]
  },
  {
   "cell_type": "code",
   "execution_count": 66,
   "metadata": {},
   "outputs": [
    {
     "data": {
      "text/plain": [
       "'DNS A request for books.google.com'"
      ]
     },
     "execution_count": 66,
     "metadata": {},
     "output_type": "execute_result"
    }
   ],
   "source": [
    "import pandas as pd;\n",
    "df = pd.Series(data)\n",
    "m.description"
   ]
  },
  {
   "cell_type": "code",
   "execution_count": 69,
   "metadata": {},
   "outputs": [
    {
     "data": {
      "text/plain": [
       "{'from': '27.253.104.80',\n",
       " 'fw': 4740,\n",
       " 'group_id': 7835508,\n",
       " 'lts': 1,\n",
       " 'msm_id': 7835508,\n",
       " 'msm_name': 'Tdig',\n",
       " 'prb_id': 10200,\n",
       " 'resultset': [{'af': 4,\n",
       "   'dst_addr': '208.67.220.222',\n",
       "   'lts': 1,\n",
       "   'proto': 'UDP',\n",
       "   'qbuf': 'cKMBAAABAAAAAAAABTEwMjAwCjE0ODgwODIyNzAFYm9va3MGZ29vZ2xlA2NvbQAAAQAB',\n",
       "   'result': {'ANCOUNT': 0,\n",
       "    'ARCOUNT': 0,\n",
       "    'ID': 28835,\n",
       "    'NSCOUNT': 1,\n",
       "    'QDCOUNT': 1,\n",
       "    'abuf': 'cKOBgwABAAAAAQAABTEwMjAwCjE0ODgwODIyNzAFYm9va3MGZ29vZ2xlA2NvbQAAAQABwCMABgABAAAAPAA6A25zMwZnb29nbGUDY29tAAlkbnMtYWRtaW4GZ29vZ2xlA2NvbQAI2uJoAAADhAAAA4QAAAcIAAAAPA==',\n",
       "    'rt': 185.052,\n",
       "    'size': 121},\n",
       "   'src_addr': '192.168.0.89',\n",
       "   'subid': 1,\n",
       "   'submax': 3,\n",
       "   'time': 1488082270},\n",
       "  {'af': 4,\n",
       "   'dst_addr': '208.67.220.220',\n",
       "   'lts': 2,\n",
       "   'proto': 'UDP',\n",
       "   'qbuf': 'vpIBAAABAAAAAAAABTEwMjAwCjE0ODgwODIyNzEFYm9va3MGZ29vZ2xlA2NvbQAAAQAB',\n",
       "   'result': {'ANCOUNT': 0,\n",
       "    'ARCOUNT': 0,\n",
       "    'ID': 48786,\n",
       "    'NSCOUNT': 1,\n",
       "    'QDCOUNT': 1,\n",
       "    'abuf': 'vpKBgwABAAAAAQAABTEwMjAwCjE0ODgwODIyNzEFYm9va3MGZ29vZ2xlA2NvbQAAAQABwCMABgABAAAAPAA6A25zNAZnb29nbGUDY29tAAlkbnMtYWRtaW4GZ29vZ2xlA2NvbQAI2uJoAAADhAAAA4QAAAcIAAAAPA==',\n",
       "    'rt': 174.744,\n",
       "    'size': 121},\n",
       "   'src_addr': '192.168.0.89',\n",
       "   'subid': 2,\n",
       "   'submax': 3,\n",
       "   'time': 1488082271},\n",
       "  {'af': 4,\n",
       "   'dst_addr': '198.142.235.14',\n",
       "   'lts': 3,\n",
       "   'proto': 'UDP',\n",
       "   'qbuf': 'CP8BAAABAAAAAAAABTEwMjAwCjE0ODgwODIyNzIFYm9va3MGZ29vZ2xlA2NvbQAAAQAB',\n",
       "   'result': {'ANCOUNT': 0,\n",
       "    'ARCOUNT': 0,\n",
       "    'ID': 2303,\n",
       "    'NSCOUNT': 1,\n",
       "    'QDCOUNT': 1,\n",
       "    'abuf': 'CP+BgwABAAAAAQAABTEwMjAwCjE0ODgwODIyNzIFYm9va3MGZ29vZ2xlA2NvbQAAAQABwCMABgABAAAAPAAmA25zMcAjCWRucy1hZG1pbsAjCNriaAAAA4QAAAOEAAAHCAAAADw=',\n",
       "    'rt': 162.419,\n",
       "    'size': 101},\n",
       "   'src_addr': '192.168.0.89',\n",
       "   'subid': 3,\n",
       "   'submax': 3,\n",
       "   'time': 1488082272}],\n",
       " 'timestamp': 1488082270,\n",
       " 'type': 'dns'}"
      ]
     },
     "execution_count": 69,
     "metadata": {},
     "output_type": "execute_result"
    }
   ],
   "source": [
    "df[0]"
   ]
  },
  {
   "cell_type": "code",
   "execution_count": 53,
   "metadata": {
    "collapsed": true
   },
   "outputs": [],
   "source": [
    "\n",
    "m = Measurement(id=7835508);\n",
    "data = m.re9"
   ]
  },
  {
   "cell_type": "code",
   "execution_count": 27,
   "metadata": {
    "collapsed": true
   },
   "outputs": [],
   "source": [
    "data_frame = pd.Series(data)"
   ]
  },
  {
   "cell_type": "code",
   "execution_count": 40,
   "metadata": {
    "collapsed": true
   },
   "outputs": [],
   "source": [
    "rtts = data_frame[0][\"result\"];\n",
    "avg_rtt = (rtts[0]['rtt'] + rtts[1]['rtt'] + rtts[2]['rtt'])/3.0;"
   ]
  },
  {
   "cell_type": "code",
   "execution_count": 52,
   "metadata": {},
   "outputs": [
    {
     "name": "stdout",
     "output_type": "stream",
     "text": [
      "10212\n",
      "10243\n",
      "10543\n",
      "10967\n",
      "11182\n",
      "11191\n",
      "11383\n",
      "11747\n",
      "11944\n",
      "12195\n",
      "12199\n",
      "12205\n",
      "12207\n",
      "12286\n",
      "12344\n",
      "12389\n",
      "12421\n",
      "12465\n",
      "12487\n",
      "12956\n",
      "12968\n",
      "13151\n",
      "13226\n",
      "13231\n",
      "13239\n",
      "13263\n",
      "13301\n",
      "13414\n",
      "13503\n",
      "13519\n",
      "13580\n",
      "13709\n",
      "13710\n",
      "13711\n",
      "13720\n",
      "13728\n",
      "13734\n",
      "13746\n",
      "13755\n",
      "13758\n",
      "13804\n",
      "13885\n",
      "13887\n",
      "13888\n",
      "14267\n",
      "14316\n",
      "14384\n",
      "14451\n",
      "14500\n",
      "14691\n",
      "14870\n",
      "14945\n",
      "14970\n",
      "14971\n",
      "15397\n",
      "15997\n",
      "16264\n",
      "16430\n",
      "16438\n",
      "16454\n",
      "16491\n",
      "16562\n",
      "16601\n",
      "16687\n",
      "16753\n",
      "16804\n",
      "16964\n",
      "17343\n",
      "17889\n",
      "17901\n",
      "17973\n",
      "18114\n",
      "18129\n",
      "18131\n",
      "18135\n",
      "18169\n",
      "18195\n",
      "18246\n",
      "18254\n",
      "18671\n",
      "19270\n",
      "19302\n",
      "19390\n",
      "19644\n",
      "19925\n",
      "19928\n",
      "19994\n",
      "20438\n",
      "20495\n",
      "20772\n",
      "20875\n",
      "21026\n",
      "21120\n",
      "21395\n",
      "21682\n",
      "21770\n",
      "21818\n",
      "21832\n",
      "21987\n",
      "22003\n",
      "22158\n",
      "22205\n",
      "22216\n",
      "22221\n",
      "22222\n",
      "22235\n",
      "22252\n",
      "22281\n",
      "22291\n",
      "22431\n",
      "22458\n",
      "22466\n",
      "22522\n",
      "22778\n",
      "22908\n",
      "22933\n",
      "23208\n",
      "23538\n",
      "23540\n",
      "239\n",
      "242\n",
      "24390\n",
      "24720\n",
      "24728\n",
      "24785\n",
      "24798\n",
      "24887\n",
      "24916\n",
      "25185\n",
      "25261\n",
      "25283\n",
      "25296\n",
      "25355\n",
      "25975\n",
      "2608\n",
      "27131\n",
      "27492\n",
      "27505\n",
      "27515\n",
      "27571\n",
      "27636\n",
      "27840\n",
      "27972\n",
      "28068\n",
      "28445\n",
      "28493\n",
      "28658\n",
      "28822\n",
      "28878\n",
      "29013\n",
      "29098\n",
      "29121\n",
      "29179\n",
      "29423\n",
      "29857\n",
      "3386\n",
      "3443\n",
      "3454\n",
      "3461\n",
      "4061\n",
      "4088\n",
      "4153\n",
      "4199\n",
      "4274\n",
      "449\n",
      "4518\n",
      "4519\n",
      "473\n",
      "6053\n",
      "6176\n",
      "6179\n",
      "6224\n",
      "849\n"
     ]
    }
   ],
   "source": [
    "for df in data_frame:\n",
    "    print(df[\"prb_id\"])"
   ]
  },
  {
   "cell_type": "code",
   "execution_count": null,
   "metadata": {
    "collapsed": true
   },
   "outputs": [],
   "source": []
  }
 ],
 "metadata": {
  "kernelspec": {
   "display_name": "Python 3",
   "language": "python",
   "name": "python3"
  },
  "language_info": {
   "codemirror_mode": {
    "name": "ipython",
    "version": 3
   },
   "file_extension": ".py",
   "mimetype": "text/x-python",
   "name": "python",
   "nbconvert_exporter": "python",
   "pygments_lexer": "ipython3",
   "version": "3.5.2"
  }
 },
 "nbformat": 4,
 "nbformat_minor": 2
}
